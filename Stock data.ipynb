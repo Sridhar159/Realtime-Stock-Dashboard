{
 "cells": [
  {
   "cell_type": "code",
   "execution_count": 25,
   "id": "7bb2b5b8",
   "metadata": {},
   "outputs": [
    {
     "name": "stdout",
     "output_type": "stream",
     "text": [
      "Requirement already satisfied: pymysql in c:\\users\\sridh\\anaconda3\\lib\\site-packages (1.1.0)\n",
      "Collecting yahooquery\n",
      "  Obtaining dependency information for yahooquery from https://files.pythonhosted.org/packages/d1/a9/9a06f31cc068c7997b63a358f94ed433afb28599ef63bdcd5333db4a19d8/yahooquery-2.3.7-py3-none-any.whl.metadata\n",
      "  Downloading yahooquery-2.3.7-py3-none-any.whl.metadata (5.0 kB)\n",
      "Requirement already satisfied: beautifulsoup4<5.0.0,>=4.12.2 in c:\\users\\sridh\\anaconda3\\lib\\site-packages (from yahooquery) (4.12.2)\n",
      "Requirement already satisfied: lxml<5.0.0,>=4.9.3 in c:\\users\\sridh\\anaconda3\\lib\\site-packages (from yahooquery) (4.9.3)\n",
      "Requirement already satisfied: pandas<3.0.0,>=2.0.3 in c:\\users\\sridh\\anaconda3\\lib\\site-packages (from yahooquery) (2.0.3)\n",
      "Requirement already satisfied: requests<3.0.0,>=2.31.0 in c:\\users\\sridh\\anaconda3\\lib\\site-packages (from yahooquery) (2.31.0)\n",
      "Collecting requests-futures<2.0.0,>=1.0.1 (from yahooquery)\n",
      "  Obtaining dependency information for requests-futures<2.0.0,>=1.0.1 from https://files.pythonhosted.org/packages/af/ca/ca664ed374fab67535482532c3c05bb5dbe5850e7dff2491eb827c318e48/requests_futures-1.0.1-py2.py3-none-any.whl.metadata\n",
      "  Downloading requests_futures-1.0.1-py2.py3-none-any.whl.metadata (12 kB)\n",
      "Requirement already satisfied: tqdm<5.0.0,>=4.65.0 in c:\\users\\sridh\\anaconda3\\lib\\site-packages (from yahooquery) (4.65.0)\n",
      "Requirement already satisfied: soupsieve>1.2 in c:\\users\\sridh\\anaconda3\\lib\\site-packages (from beautifulsoup4<5.0.0,>=4.12.2->yahooquery) (2.4)\n",
      "Requirement already satisfied: python-dateutil>=2.8.2 in c:\\users\\sridh\\anaconda3\\lib\\site-packages (from pandas<3.0.0,>=2.0.3->yahooquery) (2.8.2)\n",
      "Requirement already satisfied: pytz>=2020.1 in c:\\users\\sridh\\anaconda3\\lib\\site-packages (from pandas<3.0.0,>=2.0.3->yahooquery) (2023.3.post1)\n",
      "Requirement already satisfied: tzdata>=2022.1 in c:\\users\\sridh\\anaconda3\\lib\\site-packages (from pandas<3.0.0,>=2.0.3->yahooquery) (2023.3)\n",
      "Requirement already satisfied: numpy>=1.21.0 in c:\\users\\sridh\\anaconda3\\lib\\site-packages (from pandas<3.0.0,>=2.0.3->yahooquery) (1.24.3)\n",
      "Requirement already satisfied: charset-normalizer<4,>=2 in c:\\users\\sridh\\anaconda3\\lib\\site-packages (from requests<3.0.0,>=2.31.0->yahooquery) (2.0.4)\n",
      "Requirement already satisfied: idna<4,>=2.5 in c:\\users\\sridh\\anaconda3\\lib\\site-packages (from requests<3.0.0,>=2.31.0->yahooquery) (3.4)\n",
      "Requirement already satisfied: urllib3<3,>=1.21.1 in c:\\users\\sridh\\anaconda3\\lib\\site-packages (from requests<3.0.0,>=2.31.0->yahooquery) (1.26.16)\n",
      "Requirement already satisfied: certifi>=2017.4.17 in c:\\users\\sridh\\anaconda3\\lib\\site-packages (from requests<3.0.0,>=2.31.0->yahooquery) (2023.7.22)\n",
      "Requirement already satisfied: colorama in c:\\users\\sridh\\anaconda3\\lib\\site-packages (from tqdm<5.0.0,>=4.65.0->yahooquery) (0.4.6)\n",
      "Requirement already satisfied: six>=1.5 in c:\\users\\sridh\\anaconda3\\lib\\site-packages (from python-dateutil>=2.8.2->pandas<3.0.0,>=2.0.3->yahooquery) (1.16.0)\n",
      "Downloading yahooquery-2.3.7-py3-none-any.whl (52 kB)\n",
      "   ---------------------------------------- 0.0/52.7 kB ? eta -:--:--\n",
      "   ------- -------------------------------- 10.2/52.7 kB ? eta -:--:--\n",
      "   ---------------------------------------- 52.7/52.7 kB 904.4 kB/s eta 0:00:00\n",
      "Downloading requests_futures-1.0.1-py2.py3-none-any.whl (7.6 kB)\n",
      "Installing collected packages: requests-futures, yahooquery\n",
      "Successfully installed requests-futures-1.0.1 yahooquery-2.3.7\n"
     ]
    }
   ],
   "source": [
    "!pip install pymysql\n",
    "!pip install yahooquery\n"
   ]
  },
  {
   "cell_type": "code",
   "execution_count": null,
   "id": "dfea8932",
   "metadata": {},
   "outputs": [],
   "source": []
  },
  {
   "cell_type": "code",
   "execution_count": 31,
   "id": "3c1a3997",
   "metadata": {},
   "outputs": [
    {
     "name": "stdout",
     "output_type": "stream",
     "text": [
      "Data for IBM inserted successfully.\n",
      "Data for AAPL inserted successfully.\n",
      "Data for GOOGL inserted successfully.\n",
      "Data for MSFT inserted successfully.\n",
      "Connection closed.\n"
     ]
    }
   ],
   "source": [
    "import pymysql\n",
    "from datetime import datetime\n",
    "from yahooquery import Ticker\n",
    "\n",
    "# Replace \"demo\" with your Alpha Vantage API key\n",
    "api_key = 'your_alpha_vantage_api_key'\n",
    "symbols = ['IBM', 'AAPL', 'GOOGL', 'MSFT']\n",
    "\n",
    "# Function to fetch real-time stock data from Yahoo Finance API\n",
    "def get_stock_data(symbol):\n",
    "    try:\n",
    "        ticker = Ticker(symbol)\n",
    "        data = ticker.history(period='1d')\n",
    "        \n",
    "        if 'close' in data and not data['close'].empty:\n",
    "            latest_data = data['close'].iloc[-1]\n",
    "            open_price = data['open'].iloc[-1]\n",
    "            high_price = data['high'].iloc[-1]\n",
    "            low_price = data['low'].iloc[-1]\n",
    "            volume = data['volume'].iloc[-1]\n",
    "            \n",
    "            return {\n",
    "                'symbol': symbol,\n",
    "                'price': latest_data,\n",
    "                'open': open_price,\n",
    "                'high': high_price,\n",
    "                'low': low_price,\n",
    "                'volume': volume,\n",
    "                'timestamp': datetime.now()\n",
    "            }\n",
    "        else:\n",
    "            return None\n",
    "    except Exception as e:\n",
    "        print(f\"Error fetching data for {symbol}: {e}\")\n",
    "        return None\n",
    "\n",
    "# Function to insert stock data into the MySQL database\n",
    "def insert_stock_data(data, connection):\n",
    "    try:\n",
    "        with connection.cursor() as cursor:\n",
    "            # Insert data into the 'stock_data' table\n",
    "            sql = \"INSERT INTO stock_data (symbol, price, open, high, low, volume, timestamp) VALUES (%s, %s, %s, %s, %s, %s, %s)\"\n",
    "            cursor.execute(sql, (data['symbol'], data['price'], data['open'], data['high'], data['low'], data['volume'], data['timestamp']))\n",
    "        # Commit the changes to the database\n",
    "        connection.commit()\n",
    "        print(f\"Data for {data['symbol']} inserted successfully.\")\n",
    "    except pymysql.Error as e:\n",
    "        # Handle any database-related errors\n",
    "        print(f\"Error: {e}\")\n",
    "\n",
    "# Replace these values with your actual MySQL credentials\n",
    "host = 'localhost'\n",
    "user = 'root'\n",
    "password = 'root'\n",
    "database = 'sri'\n",
    "\n",
    "try:\n",
    "    # Attempt to establish a connection to the database\n",
    "    connection = pymysql.connect(host=host, user=user, password=password, database=database)\n",
    "    \n",
    "    # Fetch real-time data for each stock symbol using Yahoo Finance API\n",
    "    for symbol in symbols:\n",
    "        stock_data = get_stock_data(symbol)\n",
    "        \n",
    "        if stock_data is not None:\n",
    "            insert_stock_data(stock_data, connection)\n",
    "        else:\n",
    "            print(f\"Failed to fetch data for {symbol}.\")\n",
    "\n",
    "except pymysql.Error as e:\n",
    "    # If there is an error connecting to the database, print an error message\n",
    "    print(f\"Error: {e}\")\n",
    "\n",
    "finally:\n",
    "    # Close the connection in the 'finally' block to ensure it's closed\n",
    "    if connection:\n",
    "        connection.close()\n",
    "        print(\"Connection closed.\")\n"
   ]
  },
  {
   "cell_type": "code",
   "execution_count": null,
   "id": "6d4d6be7",
   "metadata": {},
   "outputs": [],
   "source": [
    "\n"
   ]
  },
  {
   "cell_type": "code",
   "execution_count": 33,
   "id": "fb07893f",
   "metadata": {},
   "outputs": [],
   "source": [
    "import logging\n",
    "\n",
    "logging.basicConfig(filename='stock_data_fetch.log', level=logging.INFO)\n",
    "\n",
    "# ... (previous code)\n",
    "\n",
    "try:\n",
    "    logging.info(\"Fetching real-time data from Alpha Vantage API...\")\n",
    "    stock_price = get_stock_data(symbol, api_key)\n",
    "    \n",
    "    if stock_price is not None:\n",
    "        logging.info(f\"Stock Price for {symbol}: {stock_price}\")\n",
    "        insert_stock_data(symbol, stock_price, connection)\n",
    "    else:\n",
    "        logging.warning(f\"Failed to fetch data for {symbol}.\")\n",
    "\n",
    "except Exception as e:\n",
    "    logging.error(f\"An error occurred: {e}\")\n",
    "\n",
    "# ... (remaining code)\n"
   ]
  },
  {
   "cell_type": "code",
   "execution_count": null,
   "id": "4012e4d2",
   "metadata": {},
   "outputs": [],
   "source": [
    "\n"
   ]
  },
  {
   "cell_type": "code",
   "execution_count": null,
   "id": "9b3ac3f8",
   "metadata": {},
   "outputs": [],
   "source": []
  }
 ],
 "metadata": {
  "kernelspec": {
   "display_name": "Python 3 (ipykernel)",
   "language": "python",
   "name": "python3"
  },
  "language_info": {
   "codemirror_mode": {
    "name": "ipython",
    "version": 3
   },
   "file_extension": ".py",
   "mimetype": "text/x-python",
   "name": "python",
   "nbconvert_exporter": "python",
   "pygments_lexer": "ipython3",
   "version": "3.11.5"
  }
 },
 "nbformat": 4,
 "nbformat_minor": 5
}
